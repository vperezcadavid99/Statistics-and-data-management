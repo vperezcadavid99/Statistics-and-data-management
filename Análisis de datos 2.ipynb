{
 "cells": [
  {
   "cell_type": "markdown",
   "metadata": {},
   "source": [
    "## Clasificador académico\n",
    "\n",
    "En el siguiente script se crea un Dataframe con información de estudiantes, el cual sive como plantilla para futuros análisis de clasificación en instituciones educativas."
   ]
  },
  {
   "cell_type": "code",
   "execution_count": 1,
   "metadata": {},
   "outputs": [],
   "source": [
    "import numpy as np\n",
    "import pandas as pd\n",
    "import matplotlib.pyplot as plt"
   ]
  },
  {
   "cell_type": "markdown",
   "metadata": {},
   "source": [
    "Inicialmente, defina la función crear_est , la cual crea un diccionario con la información necesaria"
   ]
  },
  {
   "cell_type": "code",
   "execution_count": 2,
   "metadata": {},
   "outputs": [],
   "source": [
    "def crear_est(nom:str, ide:str, gen:str, carr:str, papa:float, pact:float)->dict:\n",
    "    dic_est = { \"nombre\": nom,\n",
    "                \"identificación\": ide,\n",
    "                \"género\": gen, \n",
    "                \"carrera\": carr,\n",
    "                \"PAPA\": papa,\n",
    "                \"promedio_actual\": pact}\n",
    "    return dic_est"
   ]
  },
  {
   "cell_type": "markdown",
   "metadata": {},
   "source": [
    "Se creean luego, cuatro diccionarios llamados estudiante1, estudiante2, estudiante3 y estudiante4, con algunos datos respectivos."
   ]
  },
  {
   "cell_type": "code",
   "execution_count": 23,
   "metadata": {},
   "outputs": [
    {
     "name": "stdout",
     "output_type": "stream",
     "text": [
      "{'nombre': 'Ximena Yurley Pedraza', 'identificación': '1024543765', 'género': 'Femenino', 'carrera': 'Química', 'PAPA': 4.32, 'promedio_actual': 2.9}\n"
     ]
    }
   ],
   "source": [
    "estudiante1 = crear_est(\"Ximena Yurley Pedraza\", \"1024543765\", \"Femenino\", \"Química\", 4.32, 2.9)\n",
    "estudiante2 = crear_est(\"Debora Dora Ortiz\", \"8862435667\", \"Femenino\", \"Historia\", 4.1, 3.5)\n",
    "estudiante3 = crear_est(\"Alfonso Chiquillo\", \"432487639\", \"No Binario\", \"Ingeniería de Alimentos\", 2.9, 4.89)\n",
    "estudiante4 = crear_est(\"Luis Miguel Iglesias\", \"6453424178\", \"Masculino\", \"Música\", 3.9, 4.3)\n",
    "print(estudiante1)"
   ]
  },
  {
   "cell_type": "markdown",
   "metadata": {},
   "source": [
    "Se realiza ahora una clasificación por género a partir de los anteriores diccionarios."
   ]
  },
  {
   "cell_type": "code",
   "execution_count": 24,
   "metadata": {},
   "outputs": [
    {
     "name": "stdout",
     "output_type": "stream",
     "text": [
      "{'femenino': 2, 'masculino': 1, 'no_binario': 1}\n"
     ]
    }
   ],
   "source": [
    "def contar_genero( estudiante1, estudiante2, estudiante3, estudiante4)->dict:\n",
    "    # Se crea el diccionario final\n",
    "    conteo_genero = {\"femenino\": 0, \"masculino\": 0, \"no_binario\": 0}\n",
    "    \n",
    "    # Se crea una lista que contiene cada diccionario\n",
    "    lista = [estudiante1, estudiante2, estudiante3, estudiante4]\n",
    "    \n",
    "    # Se recorre la lista\n",
    "    for i in lista:\n",
    "        \n",
    "        genero = i[\"género\"]\n",
    "        #print(genero)\n",
    "        if genero == \"Femenino\":\n",
    "            conteo_genero[\"femenino\"] += 1\n",
    "        elif genero == \"Masculino\":\n",
    "            conteo_genero[\"masculino\"] += 1\n",
    "        elif genero == \"No Binario\":\n",
    "            conteo_genero[\"no_binario\"] += 1\n",
    "    return conteo_genero\n",
    "    \n",
    "final = contar_genero( estudiante1, estudiante2, estudiante3, estudiante4)\n",
    "print(final)"
   ]
  },
  {
   "cell_type": "markdown",
   "metadata": {},
   "source": [
    "A continuación se crea una función llamada en_riesgo que reciba por parámetro a los cuatro estudiantes y devuelva un diccionario con las identificaciones (claves) y PAPA (valores) de los estudiantes que tienen el promedio por debajo de 3.0.\n",
    "De esta manera, se filtrarán estudiantes con posibles riesgos de pérdida en alguna asignatura."
   ]
  },
  {
   "cell_type": "code",
   "execution_count": 25,
   "metadata": {},
   "outputs": [
    {
     "name": "stdout",
     "output_type": "stream",
     "text": [
      "{'1024543765': 4.32}\n"
     ]
    }
   ],
   "source": [
    "def en_riesgo(estudiante1, estudiante2, estudiante3, estudiante4)->dict:\n",
    "     # Se crea el diccionario final\n",
    "    estudiantes_en_riesgo = {}\n",
    "    \n",
    "    # Se crea una lista que contiene cada diccionario\n",
    "    lista = [estudiante1, estudiante2, estudiante3, estudiante4]\n",
    "    \n",
    "    for i in lista:\n",
    "        if i[\"promedio_actual\"] < 3.0:\n",
    "            estudiantes_en_riesgo[ i[\"identificación\"]] = i[\"PAPA\"]\n",
    "    return estudiantes_en_riesgo\n",
    "\n",
    "a = en_riesgo(estudiante1, estudiante2, estudiante3, estudiante4)\n",
    "print(a)"
   ]
  },
  {
   "cell_type": "markdown",
   "metadata": {},
   "source": [
    "A continuación se crea una fucnión que reciba como entrada a los cuatro estudiantes y un nombre y/o apellido (string), y cuya salida sea verdadero o falso si alguno de los estudiantes tiene o no dicho nombre y/o apellido. El parámetro de entrada no tiene qué ser el nombre completo, y puede ser ingresado en minúsculas y/o mayúsuculas. Por ejemplo, si el nombre Andres Ferney Contreras Torres apareciera en algún diccionario, se podría ingresar como parámetro de entrada (además de los cuatro estudiantes) “AnDres ToRRes”, “Ferney”, “conTREras TorrES”, “andres Ferney”, etc. Por ahora se evitará el uso de tildes en los valores de la clave Nombres para simplificar el código."
   ]
  },
  {
   "cell_type": "code",
   "execution_count": 26,
   "metadata": {},
   "outputs": [
    {
     "name": "stdout",
     "output_type": "stream",
     "text": [
      "True\n",
      "True\n",
      "True\n",
      "False\n"
     ]
    }
   ],
   "source": [
    "def existe_est(estudiante1, estudiante2, estudiante3, estudiante4, nombre_apellido:str):\n",
    "    \n",
    "    # Convertir a minúsculas el nombre ingresado y dividirlo\n",
    "    nombre_apellido = nombre_apellido.lower().split()\n",
    "    \n",
    "    lista = [estudiante1, estudiante2, estudiante3, estudiante4]\n",
    "    \n",
    "    for i in lista:\n",
    "        nombre_completo = i[\"nombre\"].lower().split()\n",
    "        # Verificar si todas las partes del nombre ingresado están presentes en el nombre completo del estudiante\n",
    "        todas_nombre_apellido = True\n",
    "        for j in nombre_apellido:\n",
    "            if j not in nombre_completo:\n",
    "                todas_nombre_apellido = False         \n",
    "        # Si todas las partes están presentes, se devuelve True\n",
    "        if todas_nombre_apellido:\n",
    "            return True\n",
    "    # Si no se encontró ninguna coincidencia después de revisar todos los estudiantes, se devuelve False\n",
    "    return False\n",
    "\n",
    "print(existe_est(estudiante1, estudiante2, estudiante3, estudiante4, \"IgleSias Miguel\"))\n",
    "print(existe_est(estudiante1, estudiante2, estudiante3, estudiante4, \"XiMeNA PEdraza\")) \n",
    "print(existe_est(estudiante1, estudiante2, estudiante3, estudiante4, \" Chiquillo AlFonso\"))\n",
    "print(existe_est(estudiante1, estudiante2, estudiante3, estudiante4, \"Mateo Alfonso\"))"
   ]
  },
  {
   "cell_type": "markdown",
   "metadata": {},
   "source": [
    "Posteriormente, se crea, a partir de los cuatro diccionarios anteriores, un solo diccionario llamado estudiantes donde se compile TODA la información. Luego se crea un DataFrame en Pandas con dicho diccionario, donde los nombres de la fila superior sean las claves del diccionario (Nombre, identificación,...), y los nombres de la primera columna sean estudiante1, estudiante2,..."
   ]
  },
  {
   "cell_type": "code",
   "execution_count": 27,
   "metadata": {},
   "outputs": [
    {
     "data": {
      "text/html": [
       "<div>\n",
       "<style scoped>\n",
       "    .dataframe tbody tr th:only-of-type {\n",
       "        vertical-align: middle;\n",
       "    }\n",
       "\n",
       "    .dataframe tbody tr th {\n",
       "        vertical-align: top;\n",
       "    }\n",
       "\n",
       "    .dataframe thead th {\n",
       "        text-align: right;\n",
       "    }\n",
       "</style>\n",
       "<table border=\"1\" class=\"dataframe\">\n",
       "  <thead>\n",
       "    <tr style=\"text-align: right;\">\n",
       "      <th></th>\n",
       "      <th>nombre</th>\n",
       "      <th>identificación</th>\n",
       "      <th>género</th>\n",
       "      <th>carrera</th>\n",
       "      <th>PAPA</th>\n",
       "      <th>promedio_actual</th>\n",
       "    </tr>\n",
       "    <tr>\n",
       "      <th>Estudiantes</th>\n",
       "      <th></th>\n",
       "      <th></th>\n",
       "      <th></th>\n",
       "      <th></th>\n",
       "      <th></th>\n",
       "      <th></th>\n",
       "    </tr>\n",
       "  </thead>\n",
       "  <tbody>\n",
       "    <tr>\n",
       "      <th>estudiante1</th>\n",
       "      <td>Ximena Yurley Pedraza</td>\n",
       "      <td>1024543765</td>\n",
       "      <td>Femenino</td>\n",
       "      <td>Química</td>\n",
       "      <td>4.32</td>\n",
       "      <td>2.90</td>\n",
       "    </tr>\n",
       "    <tr>\n",
       "      <th>estudiante2</th>\n",
       "      <td>Debora Dora Ortiz</td>\n",
       "      <td>8862435667</td>\n",
       "      <td>Femenino</td>\n",
       "      <td>Historia</td>\n",
       "      <td>4.10</td>\n",
       "      <td>3.50</td>\n",
       "    </tr>\n",
       "    <tr>\n",
       "      <th>estudiante3</th>\n",
       "      <td>Alfonso Chiquillo</td>\n",
       "      <td>432487639</td>\n",
       "      <td>No Binario</td>\n",
       "      <td>Ingeniería de Alimentos</td>\n",
       "      <td>2.90</td>\n",
       "      <td>4.89</td>\n",
       "    </tr>\n",
       "    <tr>\n",
       "      <th>estudiante4</th>\n",
       "      <td>Luis Miguel Iglesias</td>\n",
       "      <td>6453424178</td>\n",
       "      <td>Masculino</td>\n",
       "      <td>Música</td>\n",
       "      <td>3.90</td>\n",
       "      <td>4.30</td>\n",
       "    </tr>\n",
       "  </tbody>\n",
       "</table>\n",
       "</div>"
      ],
      "text/plain": [
       "                            nombre identificación      género  \\\n",
       "Estudiantes                                                     \n",
       "estudiante1  Ximena Yurley Pedraza     1024543765    Femenino   \n",
       "estudiante2      Debora Dora Ortiz     8862435667    Femenino   \n",
       "estudiante3      Alfonso Chiquillo      432487639  No Binario   \n",
       "estudiante4   Luis Miguel Iglesias     6453424178   Masculino   \n",
       "\n",
       "                             carrera  PAPA  promedio_actual  \n",
       "Estudiantes                                                  \n",
       "estudiante1                  Química  4.32             2.90  \n",
       "estudiante2                 Historia  4.10             3.50  \n",
       "estudiante3  Ingeniería de Alimentos  2.90             4.89  \n",
       "estudiante4                   Música  3.90             4.30  "
      ]
     },
     "execution_count": 27,
     "metadata": {},
     "output_type": "execute_result"
    }
   ],
   "source": [
    "# Creación de diccionario info\n",
    "info = {\"nombre\": [estudiante1[\"nombre\"], estudiante2[\"nombre\"], estudiante3[\"nombre\"], estudiante4[\"nombre\"] ],\n",
    "        \"identificación\": [estudiante1[\"identificación\"], estudiante2[\"identificación\"], estudiante3[\"identificación\"], estudiante4[\"identificación\"] ], \n",
    "        \"género\": [estudiante1[\"género\"], estudiante2[\"género\"], estudiante3[\"género\"], estudiante4[\"género\"]],  \n",
    "        \"carrera\": [estudiante1[\"carrera\"], estudiante2[\"carrera\"], estudiante3[\"carrera\"], estudiante4[\"carrera\"]],  \n",
    "        \"PAPA\": [estudiante1[\"PAPA\"], estudiante2[\"PAPA\"], estudiante3[\"PAPA\"], estudiante4[\"PAPA\"]], \n",
    "        \"promedio_actual\": [estudiante1[\"promedio_actual\"], estudiante2[\"promedio_actual\"], estudiante3[\"promedio_actual\"], estudiante4[\"promedio_actual\"]],\n",
    "        \"Estudiantes\": [\"estudiante1\", \"estudiante2\", \"estudiante3\", \"estudiante4\"]}\n",
    "\n",
    "# Creación del DataFrame a partir del diccionario\n",
    "dfinfo=pd.DataFrame(info)\n",
    "# Establecer 'Estudiante 1, Estudiante 2, ...' como índice del dataset.\n",
    "dfinfo.set_index('Estudiantes', inplace=True)\n",
    "dfinfo\n",
    "\n"
   ]
  },
  {
   "cell_type": "markdown",
   "metadata": {},
   "source": [
    "Finalmente, se agrega al final del DataFrame creado, una nueva fila llamada “Promedio Estudiantes” y que, en las últimas dos columnas, calcula la media de los PAPAs (Promedio Aritmético Ponderado Acumulado) y del promedio semestral de todos los estudiantes. En el resto de columnas, dicha fila tendrá el valor NaN (Not A Number)."
   ]
  },
  {
   "cell_type": "code",
   "execution_count": 28,
   "metadata": {},
   "outputs": [
    {
     "data": {
      "text/html": [
       "<div>\n",
       "<style scoped>\n",
       "    .dataframe tbody tr th:only-of-type {\n",
       "        vertical-align: middle;\n",
       "    }\n",
       "\n",
       "    .dataframe tbody tr th {\n",
       "        vertical-align: top;\n",
       "    }\n",
       "\n",
       "    .dataframe thead th {\n",
       "        text-align: right;\n",
       "    }\n",
       "</style>\n",
       "<table border=\"1\" class=\"dataframe\">\n",
       "  <thead>\n",
       "    <tr style=\"text-align: right;\">\n",
       "      <th></th>\n",
       "      <th>nombre</th>\n",
       "      <th>identificación</th>\n",
       "      <th>género</th>\n",
       "      <th>carrera</th>\n",
       "      <th>PAPA</th>\n",
       "      <th>promedio_actual</th>\n",
       "    </tr>\n",
       "    <tr>\n",
       "      <th>Estudiantes</th>\n",
       "      <th></th>\n",
       "      <th></th>\n",
       "      <th></th>\n",
       "      <th></th>\n",
       "      <th></th>\n",
       "      <th></th>\n",
       "    </tr>\n",
       "  </thead>\n",
       "  <tbody>\n",
       "    <tr>\n",
       "      <th>estudiante1</th>\n",
       "      <td>Ximena Yurley Pedraza</td>\n",
       "      <td>1024543765</td>\n",
       "      <td>Femenino</td>\n",
       "      <td>Química</td>\n",
       "      <td>4.320</td>\n",
       "      <td>2.9000</td>\n",
       "    </tr>\n",
       "    <tr>\n",
       "      <th>estudiante2</th>\n",
       "      <td>Debora Dora Ortiz</td>\n",
       "      <td>8862435667</td>\n",
       "      <td>Femenino</td>\n",
       "      <td>Historia</td>\n",
       "      <td>4.100</td>\n",
       "      <td>3.5000</td>\n",
       "    </tr>\n",
       "    <tr>\n",
       "      <th>estudiante3</th>\n",
       "      <td>Alfonso Chiquillo</td>\n",
       "      <td>432487639</td>\n",
       "      <td>No Binario</td>\n",
       "      <td>Ingeniería de Alimentos</td>\n",
       "      <td>2.900</td>\n",
       "      <td>4.8900</td>\n",
       "    </tr>\n",
       "    <tr>\n",
       "      <th>estudiante4</th>\n",
       "      <td>Luis Miguel Iglesias</td>\n",
       "      <td>6453424178</td>\n",
       "      <td>Masculino</td>\n",
       "      <td>Música</td>\n",
       "      <td>3.900</td>\n",
       "      <td>4.3000</td>\n",
       "    </tr>\n",
       "    <tr>\n",
       "      <th>Promedio Estudiantes</th>\n",
       "      <td>NaN</td>\n",
       "      <td>NaN</td>\n",
       "      <td>NaN</td>\n",
       "      <td>NaN</td>\n",
       "      <td>3.805</td>\n",
       "      <td>3.8975</td>\n",
       "    </tr>\n",
       "  </tbody>\n",
       "</table>\n",
       "</div>"
      ],
      "text/plain": [
       "                                     nombre identificación      género  \\\n",
       "Estudiantes                                                              \n",
       "estudiante1           Ximena Yurley Pedraza     1024543765    Femenino   \n",
       "estudiante2               Debora Dora Ortiz     8862435667    Femenino   \n",
       "estudiante3               Alfonso Chiquillo      432487639  No Binario   \n",
       "estudiante4            Luis Miguel Iglesias     6453424178   Masculino   \n",
       "Promedio Estudiantes                    NaN            NaN         NaN   \n",
       "\n",
       "                                      carrera   PAPA  promedio_actual  \n",
       "Estudiantes                                                            \n",
       "estudiante1                           Química  4.320           2.9000  \n",
       "estudiante2                          Historia  4.100           3.5000  \n",
       "estudiante3           Ingeniería de Alimentos  2.900           4.8900  \n",
       "estudiante4                            Música  3.900           4.3000  \n",
       "Promedio Estudiantes                      NaN  3.805           3.8975  "
      ]
     },
     "execution_count": 28,
     "metadata": {},
     "output_type": "execute_result"
    }
   ],
   "source": [
    "# Forma #1\n",
    "\n",
    "mean_PAPA = dfinfo.PAPA.mean()\n",
    "mean_promedio_actual = dfinfo.promedio_actual.mean()\n",
    "# Creación de diccionario info2 \n",
    "info2 = {\"nombre\": [estudiante1[\"nombre\"], estudiante2[\"nombre\"], estudiante3[\"nombre\"], estudiante4[\"nombre\"] , np.nan],\n",
    "        \"identificación\": [estudiante1[\"identificación\"], estudiante2[\"identificación\"], estudiante3[\"identificación\"], estudiante4[\"identificación\"], np.nan], \n",
    "        \"género\": [estudiante1[\"género\"], estudiante2[\"género\"], estudiante3[\"género\"], estudiante4[\"género\"], np.nan],  \n",
    "        \"carrera\": [estudiante1[\"carrera\"], estudiante2[\"carrera\"], estudiante3[\"carrera\"], estudiante4[\"carrera\"], np.nan],  \n",
    "        \"PAPA\": [estudiante1[\"PAPA\"], estudiante2[\"PAPA\"], estudiante3[\"PAPA\"], estudiante4[\"PAPA\"], mean_PAPA], \n",
    "        \"promedio_actual\": [estudiante1[\"promedio_actual\"], estudiante2[\"promedio_actual\"], estudiante3[\"promedio_actual\"], estudiante4[\"promedio_actual\"], mean_promedio_actual],\n",
    "        \"Estudiantes\": [\"estudiante1\", \"estudiante2\", \"estudiante3\", \"estudiante4\", \"Promedio Estudiantes\"]}\n",
    "\n",
    "dfinfo2=pd.DataFrame(info2)\n",
    "dfinfo2.set_index('Estudiantes', inplace=True)\n",
    "dfinfo2\n"
   ]
  },
  {
   "cell_type": "code",
   "execution_count": 29,
   "metadata": {},
   "outputs": [
    {
     "data": {
      "text/html": [
       "<div>\n",
       "<style scoped>\n",
       "    .dataframe tbody tr th:only-of-type {\n",
       "        vertical-align: middle;\n",
       "    }\n",
       "\n",
       "    .dataframe tbody tr th {\n",
       "        vertical-align: top;\n",
       "    }\n",
       "\n",
       "    .dataframe thead th {\n",
       "        text-align: right;\n",
       "    }\n",
       "</style>\n",
       "<table border=\"1\" class=\"dataframe\">\n",
       "  <thead>\n",
       "    <tr style=\"text-align: right;\">\n",
       "      <th></th>\n",
       "      <th>nombre</th>\n",
       "      <th>identificación</th>\n",
       "      <th>género</th>\n",
       "      <th>carrera</th>\n",
       "      <th>PAPA</th>\n",
       "      <th>promedio_actual</th>\n",
       "    </tr>\n",
       "    <tr>\n",
       "      <th>Estudiantes</th>\n",
       "      <th></th>\n",
       "      <th></th>\n",
       "      <th></th>\n",
       "      <th></th>\n",
       "      <th></th>\n",
       "      <th></th>\n",
       "    </tr>\n",
       "  </thead>\n",
       "  <tbody>\n",
       "    <tr>\n",
       "      <th>estudiante1</th>\n",
       "      <td>Ximena Yurley Pedraza</td>\n",
       "      <td>1024543765</td>\n",
       "      <td>Femenino</td>\n",
       "      <td>Química</td>\n",
       "      <td>4.320</td>\n",
       "      <td>2.9000</td>\n",
       "    </tr>\n",
       "    <tr>\n",
       "      <th>estudiante2</th>\n",
       "      <td>Debora Dora Ortiz</td>\n",
       "      <td>8862435667</td>\n",
       "      <td>Femenino</td>\n",
       "      <td>Historia</td>\n",
       "      <td>4.100</td>\n",
       "      <td>3.5000</td>\n",
       "    </tr>\n",
       "    <tr>\n",
       "      <th>estudiante3</th>\n",
       "      <td>Alfonso Chiquillo</td>\n",
       "      <td>432487639</td>\n",
       "      <td>No Binario</td>\n",
       "      <td>Ingeniería de Alimentos</td>\n",
       "      <td>2.900</td>\n",
       "      <td>4.8900</td>\n",
       "    </tr>\n",
       "    <tr>\n",
       "      <th>estudiante4</th>\n",
       "      <td>Luis Miguel Iglesias</td>\n",
       "      <td>6453424178</td>\n",
       "      <td>Masculino</td>\n",
       "      <td>Música</td>\n",
       "      <td>3.900</td>\n",
       "      <td>4.3000</td>\n",
       "    </tr>\n",
       "    <tr>\n",
       "      <th>Promedio Estudiantes</th>\n",
       "      <td>NaN</td>\n",
       "      <td>NaN</td>\n",
       "      <td>NaN</td>\n",
       "      <td>NaN</td>\n",
       "      <td>3.805</td>\n",
       "      <td>3.8975</td>\n",
       "    </tr>\n",
       "  </tbody>\n",
       "</table>\n",
       "</div>"
      ],
      "text/plain": [
       "                                     nombre identificación      género  \\\n",
       "Estudiantes                                                              \n",
       "estudiante1           Ximena Yurley Pedraza     1024543765    Femenino   \n",
       "estudiante2               Debora Dora Ortiz     8862435667    Femenino   \n",
       "estudiante3               Alfonso Chiquillo      432487639  No Binario   \n",
       "estudiante4            Luis Miguel Iglesias     6453424178   Masculino   \n",
       "Promedio Estudiantes                    NaN            NaN         NaN   \n",
       "\n",
       "                                      carrera   PAPA  promedio_actual  \n",
       "Estudiantes                                                            \n",
       "estudiante1                           Química  4.320           2.9000  \n",
       "estudiante2                          Historia  4.100           3.5000  \n",
       "estudiante3           Ingeniería de Alimentos  2.900           4.8900  \n",
       "estudiante4                            Música  3.900           4.3000  \n",
       "Promedio Estudiantes                      NaN  3.805           3.8975  "
      ]
     },
     "execution_count": 29,
     "metadata": {},
     "output_type": "execute_result"
    }
   ],
   "source": [
    "# Forma #2\n",
    "\n",
    "df = pd.DataFrame(info)\n",
    "\n",
    "# Cálculo de promedios\n",
    "promedio_PAPA = df[\"PAPA\"].mean()\n",
    "promedio_semestral = df[\"promedio_actual\"].mean()\n",
    "\n",
    "# Crear una nueva fila llamada \"Promedio Estudiantes\"\n",
    "nueva_fila = {\n",
    "    \"nombre\": np.nan,\n",
    "    \"identificación\": np.nan,\n",
    "    \"género\": np.nan,\n",
    "    \"carrera\": np.nan,\n",
    "    \"PAPA\": promedio_PAPA,\n",
    "    \"promedio_actual\": promedio_semestral,\n",
    "    \"Estudiantes\": \"Promedio Estudiantes\"\n",
    "}\n",
    "\n",
    "# Añadir la nueva fila al DataFrame usando concat\n",
    "df = pd.concat([df, pd.DataFrame(nueva_fila, index=[0])], ignore_index=True)\n",
    "\n",
    "# Imprimir el DataFrame actualizado\n",
    "df.set_index('Estudiantes', inplace=True)\n",
    "df\n",
    "\n"
   ]
  },
  {
   "cell_type": "code",
   "execution_count": null,
   "metadata": {},
   "outputs": [],
   "source": []
  }
 ],
 "metadata": {
  "kernelspec": {
   "display_name": "Python 3",
   "language": "python",
   "name": "python3"
  },
  "language_info": {
   "codemirror_mode": {
    "name": "ipython",
    "version": 3
   },
   "file_extension": ".py",
   "mimetype": "text/x-python",
   "name": "python",
   "nbconvert_exporter": "python",
   "pygments_lexer": "ipython3",
   "version": "3.8.3"
  }
 },
 "nbformat": 4,
 "nbformat_minor": 5
}
